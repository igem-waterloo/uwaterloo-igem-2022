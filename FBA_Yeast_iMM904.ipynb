{
 "cells": [
  {
   "cell_type": "code",
   "execution_count": 1,
   "metadata": {},
   "outputs": [],
   "source": [
    "import cobra\n",
    "import pandas as pd\n",
    "from cobra.io import load_model"
   ]
  },
  {
   "cell_type": "code",
   "execution_count": 4,
   "metadata": {},
   "outputs": [
    {
     "data": {
      "text/html": [
       "<pre style=\"white-space:pre;overflow-x:auto;line-height:normal;font-family:Menlo,'DejaVu Sans Mono',consolas,'Courier New',monospace\">C:\\Users\\rainb\\AppData\\Local\\Packages\\PythonSoftwareFoundation.Python.3.10_qbz5n2kfra8p0\\LocalCache\\local-packages\\\n",
       "Python310\\site-packages\\rich\\live.py:229: UserWarning: install \"ipywidgets\" for Jupyter support\n",
       "  warnings.warn('install \"ipywidgets\" for Jupyter support')\n",
       "</pre>\n"
      ],
      "text/plain": [
       "C:\\Users\\rainb\\AppData\\Local\\Packages\\PythonSoftwareFoundation.Python.3.10_qbz5n2kfra8p0\\LocalCache\\local-packages\\\n",
       "Python310\\site-packages\\rich\\live.py:229: UserWarning: install \"ipywidgets\" for Jupyter support\n",
       "  warnings.warn('install \"ipywidgets\" for Jupyter support')\n"
      ]
     },
     "metadata": {},
     "output_type": "display_data"
    },
    {
     "data": {
      "text/html": [
       "<pre style=\"white-space:pre;overflow-x:auto;line-height:normal;font-family:Menlo,'DejaVu Sans Mono',consolas,'Courier New',monospace\"></pre>\n"
      ],
      "text/plain": []
     },
     "metadata": {},
     "output_type": "display_data"
    },
    {
     "data": {
      "text/html": [
       "<pre style=\"white-space:pre;overflow-x:auto;line-height:normal;font-family:Menlo,'DejaVu Sans Mono',consolas,'Courier New',monospace\">\n",
       "</pre>\n"
      ],
      "text/plain": [
       "\n"
      ]
     },
     "metadata": {},
     "output_type": "display_data"
    },
    {
     "data": {
      "text/html": [
       "\n",
       "        <table>\n",
       "            <tr>\n",
       "                <td><strong>Name</strong></td>\n",
       "                <td>iMM904</td>\n",
       "            </tr><tr>\n",
       "                <td><strong>Memory address</strong></td>\n",
       "                <td>0x026bd7f9fa60</td>\n",
       "            </tr><tr>\n",
       "                <td><strong>Number of metabolites</strong></td>\n",
       "                <td>1226</td>\n",
       "            </tr><tr>\n",
       "                <td><strong>Number of reactions</strong></td>\n",
       "                <td>1577</td>\n",
       "            </tr><tr>\n",
       "                <td><strong>Number of groups</strong></td>\n",
       "                <td>0</td>\n",
       "            </tr><tr>\n",
       "                <td><strong>Objective expression</strong></td>\n",
       "                <td>1.0*BIOMASS_SC5_notrace - 1.0*BIOMASS_SC5_notrace_reverse_93090</td>\n",
       "            </tr><tr>\n",
       "                <td><strong>Compartments</strong></td>\n",
       "                <td>cytosol, extracellular space, mitochondria, peroxisome/glyoxysome, endoplasmic reticulum, vacuole, golgi apparatus, nucleus</td>\n",
       "            </tr>\n",
       "          </table>"
      ],
      "text/plain": [
       "<Model iMM904 at 0x26bd7f9fa60>"
      ]
     },
     "execution_count": 4,
     "metadata": {},
     "output_type": "execute_result"
    }
   ],
   "source": [
    "model = load_model(\"iMM904\")\n",
    "model"
   ]
  },
  {
   "cell_type": "code",
   "execution_count": 5,
   "metadata": {},
   "outputs": [
    {
     "name": "stdout",
     "output_type": "stream",
     "text": [
      "<Solution 0.288 at 0x26be09801f0>\n"
     ]
    }
   ],
   "source": [
    "solution = model.optimize()\n",
    "print(solution)"
   ]
  },
  {
   "cell_type": "code",
   "execution_count": 11,
   "metadata": {},
   "outputs": [
    {
     "data": {
      "text/html": [
       "<h3>accoa_c</h3><p>C23H34N7O17P3S</p><h4>Producing Reactions</h4><table border=\"1\" class=\"dataframe\">\n",
       "  <thead>\n",
       "    <tr style=\"text-align: right;\">\n",
       "      <th>Percent</th>\n",
       "      <th>Flux</th>\n",
       "      <th>Reaction</th>\n",
       "      <th>Definition</th>\n",
       "    </tr>\n",
       "  </thead>\n",
       "  <tbody>\n",
       "    <tr>\n",
       "      <td>100.00%</td>\n",
       "      <td>0.1471</td>\n",
       "      <td>ACS</td>\n",
       "      <td>ac_c + atp_c + coa_c --&gt; accoa_c + amp_c + ppi_c</td>\n",
       "    </tr>\n",
       "  </tbody>\n",
       "</table><h4>Consuming Reactions</h4><table border=\"1\" class=\"dataframe\">\n",
       "  <thead>\n",
       "    <tr style=\"text-align: right;\">\n",
       "      <th>Percent</th>\n",
       "      <th>Flux</th>\n",
       "      <th>Reaction</th>\n",
       "      <th>Definition</th>\n",
       "    </tr>\n",
       "  </thead>\n",
       "  <tbody>\n",
       "    <tr>\n",
       "      <td>77.82%</td>\n",
       "      <td>-0.1145</td>\n",
       "      <td>ACCOAC</td>\n",
       "      <td>accoa_c + atp_c + hco3_c &lt;=&gt; adp_c + h_c + malcoa_c + pi_c</td>\n",
       "    </tr>\n",
       "    <tr>\n",
       "      <td>10.96%</td>\n",
       "      <td>-0.01612</td>\n",
       "      <td>FAS80COA_L</td>\n",
       "      <td>accoa_c + 9.0 h_c + 3.0 malcoa_c + 6.0 nadph_c --&gt; 3.0 co2_c + 3.0 coa_c + 3.0 h2o_c + 6.0 nadp_c + occoa_c</td>\n",
       "    </tr>\n",
       "    <tr>\n",
       "      <td>11.22%</td>\n",
       "      <td>-0.01649</td>\n",
       "      <td>HSERTA</td>\n",
       "      <td>accoa_c + hom__L_c &lt;=&gt; achms_c + coa_c</td>\n",
       "    </tr>\n",
       "  </tbody>\n",
       "</table>"
      ],
      "text/plain": [
       "<cobra.summary.metabolite_summary.MetaboliteSummary at 0x26be3b8e2c0>"
      ]
     },
     "execution_count": 11,
     "metadata": {},
     "output_type": "execute_result"
    }
   ],
   "source": [
    "model.metabolites.accoa_c.summary()"
   ]
  },
  {
   "cell_type": "code",
   "execution_count": 14,
   "metadata": {},
   "outputs": [],
   "source": [
    "accoa_rxns = model.metabolites.accoa_c.reactions"
   ]
  },
  {
   "cell_type": "code",
   "execution_count": 17,
   "metadata": {},
   "outputs": [
    {
     "data": {
      "text/html": [
       "<div>\n",
       "<style scoped>\n",
       "    .dataframe tbody tr th:only-of-type {\n",
       "        vertical-align: middle;\n",
       "    }\n",
       "\n",
       "    .dataframe tbody tr th {\n",
       "        vertical-align: top;\n",
       "    }\n",
       "\n",
       "    .dataframe thead th {\n",
       "        text-align: right;\n",
       "    }\n",
       "</style>\n",
       "<table border=\"1\" class=\"dataframe\">\n",
       "  <thead>\n",
       "    <tr style=\"text-align: right;\">\n",
       "      <th></th>\n",
       "      <th>GENE</th>\n",
       "    </tr>\n",
       "  </thead>\n",
       "  <tbody>\n",
       "    <tr>\n",
       "      <th>0</th>\n",
       "      <td>YHR104W</td>\n",
       "    </tr>\n",
       "    <tr>\n",
       "      <th>1</th>\n",
       "      <td>YDR368W</td>\n",
       "    </tr>\n",
       "    <tr>\n",
       "      <th>2</th>\n",
       "      <td>YGR282C</td>\n",
       "    </tr>\n",
       "    <tr>\n",
       "      <th>3</th>\n",
       "      <td>YOL086C</td>\n",
       "    </tr>\n",
       "    <tr>\n",
       "      <th>4</th>\n",
       "      <td>YLR300W</td>\n",
       "    </tr>\n",
       "    <tr>\n",
       "      <th>...</th>\n",
       "      <td>...</td>\n",
       "    </tr>\n",
       "    <tr>\n",
       "      <th>900</th>\n",
       "      <td>YOR377W</td>\n",
       "    </tr>\n",
       "    <tr>\n",
       "      <th>901</th>\n",
       "      <td>YGR177C</td>\n",
       "    </tr>\n",
       "    <tr>\n",
       "      <th>902</th>\n",
       "      <td>YOR184W</td>\n",
       "    </tr>\n",
       "    <tr>\n",
       "      <th>903</th>\n",
       "      <td>YEL021W</td>\n",
       "    </tr>\n",
       "    <tr>\n",
       "      <th>904</th>\n",
       "      <td>YKL184W</td>\n",
       "    </tr>\n",
       "  </tbody>\n",
       "</table>\n",
       "<p>905 rows × 1 columns</p>\n",
       "</div>"
      ],
      "text/plain": [
       "        GENE\n",
       "0    YHR104W\n",
       "1    YDR368W\n",
       "2    YGR282C\n",
       "3    YOL086C\n",
       "4    YLR300W\n",
       "..       ...\n",
       "900  YOR377W\n",
       "901  YGR177C\n",
       "902  YOR184W\n",
       "903  YEL021W\n",
       "904  YKL184W\n",
       "\n",
       "[905 rows x 1 columns]"
      ]
     },
     "execution_count": 17,
     "metadata": {},
     "output_type": "execute_result"
    }
   ],
   "source": [
    "genes = model.genes\n",
    "genes = pd.DataFrame(genes, columns=['GENE'])\n",
    "# pd.set_option('display.max_rows', None)\n",
    "genes"
   ]
  },
  {
   "cell_type": "code",
   "execution_count": null,
   "metadata": {},
   "outputs": [],
   "source": [
    "# HK\n",
    "HXK1 = 'YFR053C' # hexokinase\n",
    "HXK2 = 'YGL253W'\n",
    "GLK1 = 'YCL040W' # glucokinase\n",
    "# PGI\n",
    "PGI = 'YBR196C' # phosphoglucose isomerase\n",
    "# PFK\n",
    "PFK1 = 'YGR240C' # phosphofructokinase\n",
    "PFK2 = 'YMR205C'\n",
    "# FBA\n",
    "FBA = 'YKL060C' # fructose 1,6-biphosphate aldolase\n",
    "# TPI\n",
    "TPI1 = 'YDR050C' # triose phosphate isomerase\n",
    "# GAPD\n",
    "TDH1 = 'YJL052W' # GAPDH 1\n",
    "TDH2 = 'YJR009C' # GAPDH 2 and paralog\n",
    "TDH3 = 'YGR192C'\n",
    "# PGK\n",
    "PGK1 = 'YCR012W' # phosphoglycerate kinase\n",
    "# PGM\n",
    "GPM1 = 'YKL152C' # phosphoglycerate mutase\n",
    "GPM2 = 'YOL056W' # non-functional homologs\n",
    "GPM3 = 'YDL021W'\n",
    "# ENO\n",
    "ENO1 = 'YGR254W' # enolase\n",
    "ENO2 = 'YHR174W' \n",
    "ERR1 = 'YOR393W' # enolase-related repeat\n",
    "ERR2 = 'YPL281C'\n",
    "ERR3 = 'YMR323W' \n",
    "# PYK\n",
    "PYK2 = 'YOR347C' # pyruvate kinase\n",
    "CDC19 = 'YAL038W' "
   ]
  }
 ],
 "metadata": {
  "kernelspec": {
   "display_name": "Python 3.10.5 64-bit (windows store)",
   "language": "python",
   "name": "python3"
  },
  "language_info": {
   "codemirror_mode": {
    "name": "ipython",
    "version": 3
   },
   "file_extension": ".py",
   "mimetype": "text/x-python",
   "name": "python",
   "nbconvert_exporter": "python",
   "pygments_lexer": "ipython3",
   "version": "3.10.6"
  },
  "vscode": {
   "interpreter": {
    "hash": "4f2bb149d9b88e672fc7899e30569d9f5eaa2e1d448413703d020b510178af4c"
   }
  }
 },
 "nbformat": 4,
 "nbformat_minor": 4
}
