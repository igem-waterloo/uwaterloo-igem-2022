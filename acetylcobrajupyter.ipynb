{
 "cells": [
  {
   "cell_type": "code",
   "execution_count": 9,
   "metadata": {},
   "outputs": [
    {
     "data": {
      "text/html": [
       "\n",
       "        <table>\n",
       "            <tr>\n",
       "                <td><strong>Metabolite identifier</strong></td><td>atp_c</td>\n",
       "            </tr><tr>\n",
       "                <td><strong>Name</strong></td><td>ATP C10H12N5O13P3</td>\n",
       "            </tr><tr>\n",
       "                <td><strong>Memory address</strong></td>\n",
       "                <td>0x7fd99d8e8fa0</td>\n",
       "            </tr><tr>\n",
       "                <td><strong>Formula</strong></td><td>C10H12N5O13P3</td>\n",
       "            </tr><tr>\n",
       "                <td><strong>Compartment</strong></td><td>c</td>\n",
       "            </tr><tr>\n",
       "                <td><strong>In 149 reaction(s)</strong></td><td>\n",
       "                    DGK1, FACOAL160, PYDXK, GLUK, PRAIS, XYLK, TMDK1, PFK, METTRS, CTPS1, ASPK, GK1, PROTRS, PC, GALKr, GTHS, PRASCSi, PTPATi, DPCOAK, FTHFLi, ASNTRS, ARGSS, GLNTRS, PMEVK, ACCOAC, TMDPK, URIDK2r,...\n",
       "                    </td>\n",
       "            </tr>\n",
       "        </table>"
      ],
      "text/plain": [
       "<Metabolite atp_c at 0x7fd99d8e8fa0>"
      ]
     },
     "execution_count": 9,
     "metadata": {},
     "output_type": "execute_result"
    }
   ],
   "source": [
    "import cobra\n",
    "from cobra.io import load_model\n",
    "\n",
    "model = load_model(\"iMM904\")\n",
    "model\n"
   ]
  },
  {
   "cell_type": "code",
   "execution_count": 6,
   "metadata": {},
   "outputs": [
    {
     "data": {
      "text/html": [
       "\n",
       "        <table>\n",
       "            <tr>\n",
       "                <td><strong>Metabolite identifier</strong></td><td>accoa_c</td>\n",
       "            </tr><tr>\n",
       "                <td><strong>Name</strong></td><td>Acetyl-CoA</td>\n",
       "            </tr><tr>\n",
       "                <td><strong>Memory address</strong></td>\n",
       "                <td>0x7fd9bb23c970</td>\n",
       "            </tr><tr>\n",
       "                <td><strong>Formula</strong></td><td>C23H34N7O17P3S</td>\n",
       "            </tr><tr>\n",
       "                <td><strong>Compartment</strong></td><td>c</td>\n",
       "            </tr><tr>\n",
       "                <td><strong>In 23 reaction(s)</strong></td><td>\n",
       "                    CSNATr, OHACT4, ACGAM6PS, ACOATA, HSERTA, PEPAT, HMGCOAS, IPPS, DIAT, ACACT1r, SERAT, MALS, FAS80COA_L, SPMDAT1, GLYAT, ACCOAC, OHACT2, OHACT1, FAS80_L, ACS, OHACT5, OHACT3, ACCOAtn\n",
       "                    </td>\n",
       "            </tr>\n",
       "        </table>"
      ],
      "text/plain": [
       "<Metabolite accoa_c at 0x7fd9bb23c970>"
      ]
     },
     "execution_count": 6,
     "metadata": {},
     "output_type": "execute_result"
    }
   ],
   "source": [
    "model.metabolites.get_by_id(\"accoa_c\")"
   ]
  },
  {
   "cell_type": "code",
   "execution_count": 7,
   "metadata": {},
   "outputs": [
    {
     "data": {
      "text/html": [
       "\n",
       "        <table>\n",
       "            <tr>\n",
       "                <td><strong>Reaction identifier</strong></td><td>ACACT1m</td>\n",
       "            </tr><tr>\n",
       "                <td><strong>Name</strong></td><td>Acetyl CoA C acetyltransferase mitochondrial</td>\n",
       "            </tr><tr>\n",
       "                <td><strong>Memory address</strong></td>\n",
       "                <td>0x7fd9a945dd30</td>\n",
       "            </tr><tr>\n",
       "                <td><strong>Stoichiometry</strong></td>\n",
       "                <td>\n",
       "                    <p style='text-align:right'>2.0 accoa_m --> aacoa_m + coa_m</p>\n",
       "                    <p style='text-align:right'>2.0 Acetyl-CoA --> Acetoacetyl-CoA + Coenzyme A</p>\n",
       "                </td>\n",
       "            </tr><tr>\n",
       "                <td><strong>GPR</strong></td><td>YPL028W</td>\n",
       "            </tr><tr>\n",
       "                <td><strong>Lower bound</strong></td><td>0.0</td>\n",
       "            </tr><tr>\n",
       "                <td><strong>Upper bound</strong></td><td>999999.0</td>\n",
       "            </tr>\n",
       "        </table>\n",
       "        "
      ],
      "text/plain": [
       "<Reaction ACACT1m at 0x7fd9a945dd30>"
      ]
     },
     "execution_count": 7,
     "metadata": {},
     "output_type": "execute_result"
    }
   ],
   "source": [
    "acetylreaction =model.reactions.get_by_id(\"ACACT1m\")\n",
    "acetylreaction"
   ]
  }
 ],
 "metadata": {
  "language_info": {
   "name": "python"
  },
  "orig_nbformat": 4
 },
 "nbformat": 4,
 "nbformat_minor": 2
}
